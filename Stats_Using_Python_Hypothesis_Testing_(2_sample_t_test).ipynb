{
  "nbformat": 4,
  "nbformat_minor": 0,
  "metadata": {
    "colab": {
      "provenance": [],
      "toc_visible": true,
      "include_colab_link": true
    },
    "kernelspec": {
      "name": "python3",
      "display_name": "Python 3"
    }
  },
  "cells": [
    {
      "cell_type": "markdown",
      "metadata": {
        "id": "view-in-github",
        "colab_type": "text"
      },
      "source": [
        "<a href=\"https://colab.research.google.com/github/ndavidd-github/ndavidd/blob/master/Stats_Using_Python_Hypothesis_Testing_(2_sample_t_test).ipynb\" target=\"_parent\"><img src=\"https://colab.research.google.com/assets/colab-badge.svg\" alt=\"Open In Colab\"/></a>"
      ]
    },
    {
      "cell_type": "markdown",
      "metadata": {
        "id": "UioX5dxi6I-U"
      },
      "source": [
        "# **Hypothesis Testing Example** - Hospital Ratings\n",
        "\n",
        "You manage two different hospitals, and you want to evaluate whether or not one performs better.  You decide to gather patient ratings for both hospitals and perform a **2-sample t-test** to determine if there are any differences between the two.\n"
      ]
    },
    {
      "cell_type": "markdown",
      "source": [
        "### Import Python Libraries\n",
        "\n",
        "Python libraries help to extend the Python programming language -- or to help make our tasks easier.  There are *lots* of Python libraries and they do *lots* of different things.  For our purposes, we will import **\"pandas\"** to load and manipulate data, **\"seaborn\"** for visualization, and **\"scipy\"** for statistics."
      ],
      "metadata": {
        "id": "sG2KXJWHTLbh"
      }
    },
    {
      "cell_type": "code",
      "metadata": {
        "id": "B1un8p7-x-jp"
      },
      "source": [
        "# Import the appropriate Python libraries.\n",
        "import pandas as pd\n",
        "import seaborn as sns\n",
        "from scipy import stats"
      ],
      "execution_count": null,
      "outputs": []
    },
    {
      "cell_type": "markdown",
      "source": [
        "### Load Data (Option #1)\n",
        "\n",
        "One of the biggest challenges that people run into with Google Colab is loading data.  For simplicity, our dataset from this example has already been stored in the cloud on Github.  (We also used a URL shortener to make it easier to type.)  To see what this file looks like, you can copy the following link (http://bit.ly/hospital_ratings) and paste into your browser window.  Another option for loading your data is from your own hard drive.  (See option #2 below.)"
      ],
      "metadata": {
        "id": "zfJr9kA9SHc5"
      }
    },
    {
      "cell_type": "code",
      "metadata": {
        "id": "KM6Cz7rCyCeC"
      },
      "source": [
        "# Load the CSV file into a dataframe.\n",
        "df_hospital = pd.read_csv('http://bit.ly/hospital_ratings')"
      ],
      "execution_count": null,
      "outputs": []
    },
    {
      "cell_type": "markdown",
      "source": [
        "### Load Data (Option #2)\n",
        "\n",
        "You can also load data into Google Colab from your own computer.  To do so, once you have the file downloaded from [here](https://drive.google.com/file/d/1oWP9xLYaQ08zKsdQOB3QQdS8R42VxZ-L/view?usp=sharing), (1) run the next cell to select where the file is located on your hard drive and (2) run the cell after to load the CSV file into a dataframe.  (Ensure that the name of the file is spelled correctly in the second cell below.)"
      ],
      "metadata": {
        "id": "MRtp7P1MScrx"
      }
    },
    {
      "cell_type": "code",
      "source": [
        "# Select where data file is located on our local drive.\n",
        "from google.colab import files\n",
        "uploaded = files.upload()"
      ],
      "metadata": {
        "id": "CG3myH0KSp2K"
      },
      "execution_count": null,
      "outputs": []
    },
    {
      "cell_type": "code",
      "source": [
        "# Load the CSV file into a dataframe.\n",
        "import io\n",
        "df_energy = pd.read_csv(io.BytesIO(uploaded['hospital_ratings.csv']))"
      ],
      "metadata": {
        "id": "vEl9HyFESp6F"
      },
      "execution_count": null,
      "outputs": []
    },
    {
      "cell_type": "markdown",
      "source": [
        "### Explore the Data\n",
        "\n",
        "As we explore the data, we will use the **\"head\"** function to preview the first few records.  Then, we'll use **\"describe\"** to calculate descriptive statistics and **seaborn** to generate a histogram of hospital ratings."
      ],
      "metadata": {
        "id": "adlfmWiETlgN"
      }
    },
    {
      "cell_type": "code",
      "metadata": {
        "id": "aQQj7nn6ySNx",
        "colab": {
          "base_uri": "https://localhost:8080/",
          "height": 206
        },
        "outputId": "102b1112-b58b-422d-ade4-5b3f4bd80686"
      },
      "source": [
        "# Preview the first few records of data.\n",
        "df_hospital.head()"
      ],
      "execution_count": null,
      "outputs": [
        {
          "output_type": "execute_result",
          "data": {
            "text/plain": [
              "   Rating_A  Rating_B\n",
              "0        81        89\n",
              "1        77        64\n",
              "2        75        35\n",
              "3        74        68\n",
              "4        86        69"
            ],
            "text/html": [
              "\n",
              "  <div id=\"df-336a5569-5e95-47c2-84c6-2822d3895438\">\n",
              "    <div class=\"colab-df-container\">\n",
              "      <div>\n",
              "<style scoped>\n",
              "    .dataframe tbody tr th:only-of-type {\n",
              "        vertical-align: middle;\n",
              "    }\n",
              "\n",
              "    .dataframe tbody tr th {\n",
              "        vertical-align: top;\n",
              "    }\n",
              "\n",
              "    .dataframe thead th {\n",
              "        text-align: right;\n",
              "    }\n",
              "</style>\n",
              "<table border=\"1\" class=\"dataframe\">\n",
              "  <thead>\n",
              "    <tr style=\"text-align: right;\">\n",
              "      <th></th>\n",
              "      <th>Rating_A</th>\n",
              "      <th>Rating_B</th>\n",
              "    </tr>\n",
              "  </thead>\n",
              "  <tbody>\n",
              "    <tr>\n",
              "      <th>0</th>\n",
              "      <td>81</td>\n",
              "      <td>89</td>\n",
              "    </tr>\n",
              "    <tr>\n",
              "      <th>1</th>\n",
              "      <td>77</td>\n",
              "      <td>64</td>\n",
              "    </tr>\n",
              "    <tr>\n",
              "      <th>2</th>\n",
              "      <td>75</td>\n",
              "      <td>35</td>\n",
              "    </tr>\n",
              "    <tr>\n",
              "      <th>3</th>\n",
              "      <td>74</td>\n",
              "      <td>68</td>\n",
              "    </tr>\n",
              "    <tr>\n",
              "      <th>4</th>\n",
              "      <td>86</td>\n",
              "      <td>69</td>\n",
              "    </tr>\n",
              "  </tbody>\n",
              "</table>\n",
              "</div>\n",
              "      <button class=\"colab-df-convert\" onclick=\"convertToInteractive('df-336a5569-5e95-47c2-84c6-2822d3895438')\"\n",
              "              title=\"Convert this dataframe to an interactive table.\"\n",
              "              style=\"display:none;\">\n",
              "        \n",
              "  <svg xmlns=\"http://www.w3.org/2000/svg\" height=\"24px\"viewBox=\"0 0 24 24\"\n",
              "       width=\"24px\">\n",
              "    <path d=\"M0 0h24v24H0V0z\" fill=\"none\"/>\n",
              "    <path d=\"M18.56 5.44l.94 2.06.94-2.06 2.06-.94-2.06-.94-.94-2.06-.94 2.06-2.06.94zm-11 1L8.5 8.5l.94-2.06 2.06-.94-2.06-.94L8.5 2.5l-.94 2.06-2.06.94zm10 10l.94 2.06.94-2.06 2.06-.94-2.06-.94-.94-2.06-.94 2.06-2.06.94z\"/><path d=\"M17.41 7.96l-1.37-1.37c-.4-.4-.92-.59-1.43-.59-.52 0-1.04.2-1.43.59L10.3 9.45l-7.72 7.72c-.78.78-.78 2.05 0 2.83L4 21.41c.39.39.9.59 1.41.59.51 0 1.02-.2 1.41-.59l7.78-7.78 2.81-2.81c.8-.78.8-2.07 0-2.86zM5.41 20L4 18.59l7.72-7.72 1.47 1.35L5.41 20z\"/>\n",
              "  </svg>\n",
              "      </button>\n",
              "      \n",
              "  <style>\n",
              "    .colab-df-container {\n",
              "      display:flex;\n",
              "      flex-wrap:wrap;\n",
              "      gap: 12px;\n",
              "    }\n",
              "\n",
              "    .colab-df-convert {\n",
              "      background-color: #E8F0FE;\n",
              "      border: none;\n",
              "      border-radius: 50%;\n",
              "      cursor: pointer;\n",
              "      display: none;\n",
              "      fill: #1967D2;\n",
              "      height: 32px;\n",
              "      padding: 0 0 0 0;\n",
              "      width: 32px;\n",
              "    }\n",
              "\n",
              "    .colab-df-convert:hover {\n",
              "      background-color: #E2EBFA;\n",
              "      box-shadow: 0px 1px 2px rgba(60, 64, 67, 0.3), 0px 1px 3px 1px rgba(60, 64, 67, 0.15);\n",
              "      fill: #174EA6;\n",
              "    }\n",
              "\n",
              "    [theme=dark] .colab-df-convert {\n",
              "      background-color: #3B4455;\n",
              "      fill: #D2E3FC;\n",
              "    }\n",
              "\n",
              "    [theme=dark] .colab-df-convert:hover {\n",
              "      background-color: #434B5C;\n",
              "      box-shadow: 0px 1px 3px 1px rgba(0, 0, 0, 0.15);\n",
              "      filter: drop-shadow(0px 1px 2px rgba(0, 0, 0, 0.3));\n",
              "      fill: #FFFFFF;\n",
              "    }\n",
              "  </style>\n",
              "\n",
              "      <script>\n",
              "        const buttonEl =\n",
              "          document.querySelector('#df-336a5569-5e95-47c2-84c6-2822d3895438 button.colab-df-convert');\n",
              "        buttonEl.style.display =\n",
              "          google.colab.kernel.accessAllowed ? 'block' : 'none';\n",
              "\n",
              "        async function convertToInteractive(key) {\n",
              "          const element = document.querySelector('#df-336a5569-5e95-47c2-84c6-2822d3895438');\n",
              "          const dataTable =\n",
              "            await google.colab.kernel.invokeFunction('convertToInteractive',\n",
              "                                                     [key], {});\n",
              "          if (!dataTable) return;\n",
              "\n",
              "          const docLinkHtml = 'Like what you see? Visit the ' +\n",
              "            '<a target=\"_blank\" href=https://colab.research.google.com/notebooks/data_table.ipynb>data table notebook</a>'\n",
              "            + ' to learn more about interactive tables.';\n",
              "          element.innerHTML = '';\n",
              "          dataTable['output_type'] = 'display_data';\n",
              "          await google.colab.output.renderOutput(dataTable, element);\n",
              "          const docLink = document.createElement('div');\n",
              "          docLink.innerHTML = docLinkHtml;\n",
              "          element.appendChild(docLink);\n",
              "        }\n",
              "      </script>\n",
              "    </div>\n",
              "  </div>\n",
              "  "
            ]
          },
          "metadata": {},
          "execution_count": 3
        }
      ]
    },
    {
      "cell_type": "code",
      "metadata": {
        "id": "sA6U_vl5yOkY",
        "colab": {
          "base_uri": "https://localhost:8080/",
          "height": 300
        },
        "outputId": "6ed7d2d1-2460-42a0-f89c-a5a5b4dc44fa"
      },
      "source": [
        "# Generate descriptive stats.\n",
        "df_hospital.describe()"
      ],
      "execution_count": null,
      "outputs": [
        {
          "output_type": "execute_result",
          "data": {
            "text/plain": [
              "       Rating_A   Rating_B\n",
              "count  20.00000  20.000000\n",
              "mean   80.30000  59.300000\n",
              "std     8.18278  12.431285\n",
              "min    62.00000  35.000000\n",
              "25%    75.75000  55.000000\n",
              "50%    79.00000  58.500000\n",
              "75%    85.25000  67.250000\n",
              "max    98.00000  89.000000"
            ],
            "text/html": [
              "\n",
              "  <div id=\"df-86ad0219-a9f0-4327-8236-31430909c753\">\n",
              "    <div class=\"colab-df-container\">\n",
              "      <div>\n",
              "<style scoped>\n",
              "    .dataframe tbody tr th:only-of-type {\n",
              "        vertical-align: middle;\n",
              "    }\n",
              "\n",
              "    .dataframe tbody tr th {\n",
              "        vertical-align: top;\n",
              "    }\n",
              "\n",
              "    .dataframe thead th {\n",
              "        text-align: right;\n",
              "    }\n",
              "</style>\n",
              "<table border=\"1\" class=\"dataframe\">\n",
              "  <thead>\n",
              "    <tr style=\"text-align: right;\">\n",
              "      <th></th>\n",
              "      <th>Rating_A</th>\n",
              "      <th>Rating_B</th>\n",
              "    </tr>\n",
              "  </thead>\n",
              "  <tbody>\n",
              "    <tr>\n",
              "      <th>count</th>\n",
              "      <td>20.00000</td>\n",
              "      <td>20.000000</td>\n",
              "    </tr>\n",
              "    <tr>\n",
              "      <th>mean</th>\n",
              "      <td>80.30000</td>\n",
              "      <td>59.300000</td>\n",
              "    </tr>\n",
              "    <tr>\n",
              "      <th>std</th>\n",
              "      <td>8.18278</td>\n",
              "      <td>12.431285</td>\n",
              "    </tr>\n",
              "    <tr>\n",
              "      <th>min</th>\n",
              "      <td>62.00000</td>\n",
              "      <td>35.000000</td>\n",
              "    </tr>\n",
              "    <tr>\n",
              "      <th>25%</th>\n",
              "      <td>75.75000</td>\n",
              "      <td>55.000000</td>\n",
              "    </tr>\n",
              "    <tr>\n",
              "      <th>50%</th>\n",
              "      <td>79.00000</td>\n",
              "      <td>58.500000</td>\n",
              "    </tr>\n",
              "    <tr>\n",
              "      <th>75%</th>\n",
              "      <td>85.25000</td>\n",
              "      <td>67.250000</td>\n",
              "    </tr>\n",
              "    <tr>\n",
              "      <th>max</th>\n",
              "      <td>98.00000</td>\n",
              "      <td>89.000000</td>\n",
              "    </tr>\n",
              "  </tbody>\n",
              "</table>\n",
              "</div>\n",
              "      <button class=\"colab-df-convert\" onclick=\"convertToInteractive('df-86ad0219-a9f0-4327-8236-31430909c753')\"\n",
              "              title=\"Convert this dataframe to an interactive table.\"\n",
              "              style=\"display:none;\">\n",
              "        \n",
              "  <svg xmlns=\"http://www.w3.org/2000/svg\" height=\"24px\"viewBox=\"0 0 24 24\"\n",
              "       width=\"24px\">\n",
              "    <path d=\"M0 0h24v24H0V0z\" fill=\"none\"/>\n",
              "    <path d=\"M18.56 5.44l.94 2.06.94-2.06 2.06-.94-2.06-.94-.94-2.06-.94 2.06-2.06.94zm-11 1L8.5 8.5l.94-2.06 2.06-.94-2.06-.94L8.5 2.5l-.94 2.06-2.06.94zm10 10l.94 2.06.94-2.06 2.06-.94-2.06-.94-.94-2.06-.94 2.06-2.06.94z\"/><path d=\"M17.41 7.96l-1.37-1.37c-.4-.4-.92-.59-1.43-.59-.52 0-1.04.2-1.43.59L10.3 9.45l-7.72 7.72c-.78.78-.78 2.05 0 2.83L4 21.41c.39.39.9.59 1.41.59.51 0 1.02-.2 1.41-.59l7.78-7.78 2.81-2.81c.8-.78.8-2.07 0-2.86zM5.41 20L4 18.59l7.72-7.72 1.47 1.35L5.41 20z\"/>\n",
              "  </svg>\n",
              "      </button>\n",
              "      \n",
              "  <style>\n",
              "    .colab-df-container {\n",
              "      display:flex;\n",
              "      flex-wrap:wrap;\n",
              "      gap: 12px;\n",
              "    }\n",
              "\n",
              "    .colab-df-convert {\n",
              "      background-color: #E8F0FE;\n",
              "      border: none;\n",
              "      border-radius: 50%;\n",
              "      cursor: pointer;\n",
              "      display: none;\n",
              "      fill: #1967D2;\n",
              "      height: 32px;\n",
              "      padding: 0 0 0 0;\n",
              "      width: 32px;\n",
              "    }\n",
              "\n",
              "    .colab-df-convert:hover {\n",
              "      background-color: #E2EBFA;\n",
              "      box-shadow: 0px 1px 2px rgba(60, 64, 67, 0.3), 0px 1px 3px 1px rgba(60, 64, 67, 0.15);\n",
              "      fill: #174EA6;\n",
              "    }\n",
              "\n",
              "    [theme=dark] .colab-df-convert {\n",
              "      background-color: #3B4455;\n",
              "      fill: #D2E3FC;\n",
              "    }\n",
              "\n",
              "    [theme=dark] .colab-df-convert:hover {\n",
              "      background-color: #434B5C;\n",
              "      box-shadow: 0px 1px 3px 1px rgba(0, 0, 0, 0.15);\n",
              "      filter: drop-shadow(0px 1px 2px rgba(0, 0, 0, 0.3));\n",
              "      fill: #FFFFFF;\n",
              "    }\n",
              "  </style>\n",
              "\n",
              "      <script>\n",
              "        const buttonEl =\n",
              "          document.querySelector('#df-86ad0219-a9f0-4327-8236-31430909c753 button.colab-df-convert');\n",
              "        buttonEl.style.display =\n",
              "          google.colab.kernel.accessAllowed ? 'block' : 'none';\n",
              "\n",
              "        async function convertToInteractive(key) {\n",
              "          const element = document.querySelector('#df-86ad0219-a9f0-4327-8236-31430909c753');\n",
              "          const dataTable =\n",
              "            await google.colab.kernel.invokeFunction('convertToInteractive',\n",
              "                                                     [key], {});\n",
              "          if (!dataTable) return;\n",
              "\n",
              "          const docLinkHtml = 'Like what you see? Visit the ' +\n",
              "            '<a target=\"_blank\" href=https://colab.research.google.com/notebooks/data_table.ipynb>data table notebook</a>'\n",
              "            + ' to learn more about interactive tables.';\n",
              "          element.innerHTML = '';\n",
              "          dataTable['output_type'] = 'display_data';\n",
              "          await google.colab.output.renderOutput(dataTable, element);\n",
              "          const docLink = document.createElement('div');\n",
              "          docLink.innerHTML = docLinkHtml;\n",
              "          element.appendChild(docLink);\n",
              "        }\n",
              "      </script>\n",
              "    </div>\n",
              "  </div>\n",
              "  "
            ]
          },
          "metadata": {},
          "execution_count": 4
        }
      ]
    },
    {
      "cell_type": "code",
      "metadata": {
        "id": "pbmBbaRG0a3s",
        "colab": {
          "base_uri": "https://localhost:8080/",
          "height": 721
        },
        "outputId": "efd32393-7614-4475-f5a1-4390add0681c"
      },
      "source": [
        "# Plot the distribution of ratings for each hospital.\n",
        "sns.displot(df_hospital['Rating_A']);\n",
        "sns.displot(df_hospital['Rating_B']);"
      ],
      "execution_count": null,
      "outputs": [
        {
          "output_type": "display_data",
          "data": {
            "text/plain": [
              "<Figure size 360x360 with 1 Axes>"
            ],
            "image/png": "[encoded data removed]"
          },
          "metadata": {
            "needs_background": "light"
          }
        },
        {
          "output_type": "display_data",
          "data": {
            "text/plain": [
              "<Figure size 360x360 with 1 Axes>"
            ],
            "image/png": "[encoded data removed]"
          },
          "metadata": {
            "needs_background": "light"
          }
        }
      ]
    },
    {
      "cell_type": "markdown",
      "source": [
        "### Perform a Normality Test\n",
        "\n",
        "Prior to performing a hypothesis test, we perform a normality test.  It helps us understand what hypothesis test would be appropriate.  After conducting this test, if the *p-value* is greater than 0.05, the data is normal enough for our purposes.  **Based on the result below, we assume the data is normal.**"
      ],
      "metadata": {
        "id": "kVQ28BrxRqd8"
      }
    },
    {
      "cell_type": "code",
      "metadata": {
        "id": "ICx_rPVgza8o"
      },
      "source": [
        "# Put each field in the dataframe into its own variable.\n",
        "x = df_hospital['Rating_A']\n",
        "y = df_hospital['Rating_B']"
      ],
      "execution_count": null,
      "outputs": []
    },
    {
      "cell_type": "code",
      "metadata": {
        "id": "4_7_jKF8yZkT",
        "colab": {
          "base_uri": "https://localhost:8080/"
        },
        "outputId": "6debc5a2-08fc-4423-81ed-a983ee26e525"
      },
      "source": [
        "# Conduct a normality test.\n",
        "print(stats.normaltest(x))\n",
        "print(stats.normaltest(y))"
      ],
      "execution_count": null,
      "outputs": [
        {
          "output_type": "stream",
          "name": "stdout",
          "text": [
            "NormaltestResult(statistic=0.6819405016457806, pvalue=0.711080061938457)\n",
            "NormaltestResult(statistic=1.3440347756980513, pvalue=0.5106773037091312)\n"
          ]
        }
      ]
    },
    {
      "cell_type": "markdown",
      "source": [
        "### Test for Equal Variance\n",
        "\n",
        "Prior to conducting our 2-sample t-test, we will test the samples for equal variance, which an assumption we will make.  **In this case, since the p-value is > 0.05, we assume no differences in variance.**"
      ],
      "metadata": {
        "id": "1LGXdabbcDBA"
      }
    },
    {
      "cell_type": "code",
      "metadata": {
        "id": "HLsNKpm61bjz",
        "colab": {
          "base_uri": "https://localhost:8080/"
        },
        "outputId": "1938c092-cf2a-400f-ee55-6a562b27b88e"
      },
      "source": [
        "# Perform a Bartlett's test to evaluate equal variance of the two datasets.\n",
        "stats.bartlett(x,y)"
      ],
      "execution_count": null,
      "outputs": [
        {
          "output_type": "execute_result",
          "data": {
            "text/plain": [
              "BartlettResult(statistic=3.147305026286696, pvalue=0.07605247378026656)"
            ]
          },
          "metadata": {},
          "execution_count": 8
        }
      ]
    },
    {
      "cell_type": "markdown",
      "source": [
        "### Perform a 2-sample t-test\n",
        "\n",
        "When we conduct this hypothesis test, if the p-value is > 0.05, we \"fail to reject the null\" and assume no differences between the two samples.  When the p-value is < 0.05, we \"reject the null\" and state there is a difference.  **Based on the result below, we reject the null.  The hospital ratings are different.**"
      ],
      "metadata": {
        "id": "9nx-VhWlcQ3U"
      }
    },
    {
      "cell_type": "code",
      "metadata": {
        "id": "ThB431eRykuV",
        "colab": {
          "base_uri": "https://localhost:8080/"
        },
        "outputId": "f0f85953-cab9-4e82-e853-8abb334f5b9a"
      },
      "source": [
        "# Conduct a 2-sample t-test.\n",
        "stats.ttest_ind(x, y)"
      ],
      "execution_count": null,
      "outputs": [
        {
          "output_type": "execute_result",
          "data": {
            "text/plain": [
              "Ttest_indResult(statistic=6.310337493465553, pvalue=2.1378143666835746e-07)"
            ]
          },
          "metadata": {},
          "execution_count": 9
        }
      ]
    }
  ]
}